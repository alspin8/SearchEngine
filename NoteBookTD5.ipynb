{
 "cells": [
  {
   "cell_type": "code",
   "execution_count": null,
   "metadata": {
    "is_executing": true
   },
   "outputs": [],
   "source": [
    "from sys import platform, path\n",
    "\n",
    "\n",
    "if platform == \"win32\":\n",
    "    path.append(\"./\")\n",
    "\n",
    "from src.model.corpus import Corpus\n",
    "\n",
    "theme = 'football'\n",
    "\n",
    "corpus = Corpus(theme, max_size=20)\n",
    "corpus.load()\n",
    "corpus.save()\n",
    "\n",
    "print(corpus.naut, corpus.ndoc)\n",
    "corpus.show_sorted_by_title()\n",
    "print(\"\\n\\n\")\n",
    "corpus.show_sorted_by_date()\n"
   ]
  },
  {
   "cell_type": "code",
   "execution_count": null,
   "outputs": [],
   "source": [],
   "metadata": {
    "collapsed": false
   }
  }
 ],
 "metadata": {
  "kernelspec": {
   "display_name": ".venv",
   "language": "python",
   "name": "python3"
  },
  "language_info": {
   "codemirror_mode": {
    "name": "ipython",
    "version": 3
   },
   "file_extension": ".py",
   "mimetype": "text/x-python",
   "name": "python",
   "nbconvert_exporter": "python",
   "pygments_lexer": "ipython3",
   "version": "3.10.0"
  }
 },
 "nbformat": 4,
 "nbformat_minor": 2
}
