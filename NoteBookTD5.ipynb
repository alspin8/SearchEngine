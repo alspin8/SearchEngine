{
 "cells": [
  {
   "cell_type": "code",
   "execution_count": 9,
   "metadata": {},
   "outputs": [],
   "source": [
    "from sys import platform, path\n",
    "\n",
    "\n",
    "if platform == \"win32\":\n",
    "    path.append(\"./\")\n",
    "\n",
    "from src.model.corpus import Corpus"
   ]
  },
  {
   "cell_type": "code",
   "execution_count": 10,
   "metadata": {},
   "outputs": [],
   "source": [
    "import ipywidgets as widgets\n",
    "from IPython.display import display"
   ]
  },
  {
   "cell_type": "code",
   "execution_count": 17,
   "metadata": {},
   "outputs": [
    {
     "data": {
      "application/vnd.jupyter.widget-view+json": {
       "model_id": "85d97d23760f47a28d2c4417a68421bf",
       "version_major": 2,
       "version_minor": 0
      },
      "text/plain": [
       "Text(value='', placeholder='Rentrez le thème voulue !')"
      ]
     },
     "metadata": {},
     "output_type": "display_data"
    }
   ],
   "source": [
    "a = widgets.Text(placeholder='Rentrez le thème voulue !')\n",
    "display(a)"
   ]
  },
  {
   "cell_type": "code",
   "execution_count": 19,
   "metadata": {},
   "outputs": [
    {
     "name": "stdout",
     "output_type": "stream",
     "text": [
      "227 200\n",
      "Document(\"This is the way to win the Rook!\" \"Yes! This is the way!\" \"Y-...NOOO! You should increase your Bishop's scope!!\")\n",
      "Document(100% Accuracy! Fabiano blew Wesley off the board today.)\n",
      "Document(A Chain-Detection Algorithm for Two-Dimensional Grids)\n",
      "Document(A Computer Composes A Fabled Problem: Four Knights vs. Queen)\n",
      "Document(A Knight Puzzle Game)\n",
      "Document(A Modest Hikaru Simulator)\n",
      "Document(A New Approach to Draw Detection by Move Repetition in Computer Chess Programming)\n",
      "Document(A Note on Hardness Frameworks and Computational Complexity of Xiangqi and Janggi)\n",
      "Document(A Note on the Computational Complexity of Selfmate and Reflexmate Chess Problems)\n",
      "Document(A Popperian Falsification of Artificial Intelligence -- Lighthill Defended)\n",
      "\n",
      "\n",
      "\n",
      "Document(Scenic trails ascending from sea-level Nim to alpine chess)\n",
      "Document(Chess Pure Strategies are Probably Chaotic)\n",
      "Document(Programs with Stringent Performance Objectives Will Often Exhibit Chaotic Behavior)\n",
      "Document(On numbers and endgames: Combinatorial game theory in chess endgames)\n",
      "Document(Current distribution in a two dimensional electron gas exposed to a perpendicular nonhomogeneous magnetic field of a chess configuration)\n",
      "Document(A New Approach to Draw Detection by Move Repetition in Computer Chess Programming)\n",
      "Document(New directions in enumerative chess problems)\n",
      "Document(Comparing Typical Opening Move Choices Made by Humans and Chess Engines)\n",
      "Document(On the Complexity of a Derivative Chess Problem)\n",
      "Document(Computer analysis of the two versions of Byzantine chess)\n"
     ]
    }
   ],
   "source": [
    "corpus = Corpus()\n",
    "corpus.load(a.value)\n",
    "corpus.save()\n",
    "\n",
    "print(corpus.naut, corpus.ndoc)\n",
    "corpus.show_sorted_by_title()\n",
    "print(\"\\n\\n\")\n",
    "corpus.show_sorted_by_date()"
   ]
  }
 ],
 "metadata": {
  "kernelspec": {
   "display_name": ".venv",
   "language": "python",
   "name": "python3"
  },
  "language_info": {
   "codemirror_mode": {
    "name": "ipython",
    "version": 3
   },
   "file_extension": ".py",
   "mimetype": "text/x-python",
   "name": "python",
   "nbconvert_exporter": "python",
   "pygments_lexer": "ipython3",
   "version": "3.10.0"
  }
 },
 "nbformat": 4,
 "nbformat_minor": 2
}
