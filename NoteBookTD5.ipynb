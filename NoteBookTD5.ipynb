{
 "cells": [
  {
   "cell_type": "code",
   "execution_count": 2,
   "metadata": {},
   "outputs": [
    {
     "name": "stdout",
     "output_type": "stream",
     "text": [
      "resource/data\\football.csv\n",
      "23 20\n",
      "Document(**Important Update for r/football - Elevating Content Quality!*)\n",
      "Document(/r/Football Daily Discussion Thread)\n",
      "Document(/r/Football Daily Discussion Thread)\n",
      "Document(At the peak of their powers, who do you think will be better, Bellingham or Musiala ?)\n",
      "Document(Cafu: \"I am afraid, the more we have Brazilians moving to the Premier League, the fewer chances for Brazil to win the World Cup. Imagine being brainwashed by the media every week that you are the best in the world, meanwhile, you are not near the best.\")\n",
      "Document(Do Lewandowski and Kane prove that Bundesliga is an statpadding league)\n",
      "Document(Explaining the difference between men's and women's football)\n",
      "Document(Network analysis of the worldwide footballer transfer market)\n",
      "Document(Networks of international football: communities, evolution and globalization of the game)\n",
      "Document(Once a Taliban stronghold, now enjoy their football in peace, scenes from Wana, Pakistan)\n",
      "\n",
      "\n",
      "\n",
      "Document(The classification of football patterns)\n",
      "Document(The Socceral Force)\n",
      "Document(Seasonal Linear Predictivity in National Football Championships)\n",
      "Document(Predictive modelling of football injuries)\n",
      "Document(Pricing Football Players using Neural Networks)\n",
      "Document(Predicting football tables by a maximally parsimonious model)\n",
      "Document(Network analysis of the worldwide footballer transfer market)\n",
      "Document(Small angle limits of Hamilton's footballs)\n",
      "Document(Explaining the difference between men's and women's football)\n",
      "Document(Networks of international football: communities, evolution and globalization of the game)\n"
     ]
    }
   ],
   "source": [
    "from sys import platform, path\n",
    "\n",
    "\n",
    "if platform == \"win32\":\n",
    "    path.append(\"./\")\n",
    "\n",
    "from src.model.corpus import Corpus\n",
    "\n",
    "theme = 'football'\n",
    "\n",
    "corpus = Corpus(theme, max_size=20)\n",
    "corpus.load()\n",
    "corpus.save()\n",
    "\n",
    "print(corpus.naut, corpus.ndoc)\n",
    "corpus.show_sorted_by_title()\n",
    "print(\"\\n\\n\")\n",
    "corpus.show_sorted_by_date()\n"
   ]
  },
  {
   "cell_type": "code",
   "execution_count": null,
   "metadata": {},
   "outputs": [],
   "source": []
  }
 ],
 "metadata": {
  "kernelspec": {
   "display_name": ".venv",
   "language": "python",
   "name": "python3"
  },
  "language_info": {
   "codemirror_mode": {
    "name": "ipython",
    "version": 3
   },
   "file_extension": ".py",
   "mimetype": "text/x-python",
   "name": "python",
   "nbconvert_exporter": "python",
   "pygments_lexer": "ipython3",
   "version": "3.10.0"
  }
 },
 "nbformat": 4,
 "nbformat_minor": 2
}
