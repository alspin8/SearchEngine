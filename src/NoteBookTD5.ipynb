{
 "cells": [
  {
   "cell_type": "code",
   "execution_count": 4,
   "metadata": {
    "ExecuteTime": {
     "end_time": "2024-01-06T12:15:30.010249Z",
     "start_time": "2024-01-06T12:15:30.008215Z"
    }
   },
   "outputs": [],
   "source": [
    "from sys import platform, path\n",
    "\n",
    "\n",
    "if platform == \"win32\":\n",
    "    path.append(\"./\")\n",
    "\n",
    "from src.model.corpus import Corpus"
   ]
  },
  {
   "cell_type": "code",
   "execution_count": 5,
   "metadata": {
    "ExecuteTime": {
     "end_time": "2024-01-06T12:15:32.156142Z",
     "start_time": "2024-01-06T12:15:32.148175Z"
    }
   },
   "outputs": [],
   "source": [
    "import ipywidgets as widgets\n",
    "from IPython.display import display"
   ]
  },
  {
   "cell_type": "code",
   "execution_count": 6,
   "metadata": {
    "ExecuteTime": {
     "end_time": "2024-01-06T12:15:32.704252Z",
     "start_time": "2024-01-06T12:15:32.692076Z"
    }
   },
   "outputs": [
    {
     "data": {
      "text/plain": "Text(value='', placeholder='Entrez le thème à traiter.')",
      "application/vnd.jupyter.widget-view+json": {
       "version_major": 2,
       "version_minor": 0,
       "model_id": "86add2217dc14b74a4fb525e3a5799ca"
      }
     },
     "metadata": {},
     "output_type": "display_data"
    },
    {
     "data": {
      "text/plain": "Text(value='', placeholder=\"Entrez le nombre d'articles à traiter\")",
      "application/vnd.jupyter.widget-view+json": {
       "version_major": 2,
       "version_minor": 0,
       "model_id": "046744d86fd5478f84821b5ded1e18e1"
      }
     },
     "metadata": {},
     "output_type": "display_data"
    },
    {
     "data": {
      "text/plain": "RadioButtons(description='Trier par :', index=2, options=(('Titre', 'title'), ('Date', 'date'), ('Aucun', ''))…",
      "application/vnd.jupyter.widget-view+json": {
       "version_major": 2,
       "version_minor": 0,
       "model_id": "6bb8c5d35023445ca42d341e05446410"
      }
     },
     "metadata": {},
     "output_type": "display_data"
    },
    {
     "data": {
      "text/plain": "Button(description='Rechercher', style=ButtonStyle())",
      "application/vnd.jupyter.widget-view+json": {
       "version_major": 2,
       "version_minor": 0,
       "model_id": "8462f9785bad48a4bad692715a4eb110"
      }
     },
     "metadata": {},
     "output_type": "display_data"
    },
    {
     "data": {
      "text/plain": "Output()",
      "application/vnd.jupyter.widget-view+json": {
       "version_major": 2,
       "version_minor": 0,
       "model_id": "a3f54dd028304508a6935fb61bb1e832"
      }
     },
     "metadata": {},
     "output_type": "display_data"
    }
   ],
   "source": [
    "title = widgets.Text(placeholder='Entrez le thème à traiter.')\n",
    "\n",
    "out = widgets.Output()\n",
    "\n",
    "article_count = widgets.Text(placeholder=\"Entrez le nombre d'articles à traiter\")\n",
    "\n",
    "sort_mode = widgets.RadioButtons(\n",
    "    options=[(\"Titre\", \"title\"), (\"Date\", \"date\"), (\"Aucun\", \"\")],\n",
    "    value=\"\",\n",
    "    description='Trier par :',\n",
    "    disabled=False\n",
    ")\n",
    "\n",
    "search = widgets.Button(description=\"Rechercher\")\n",
    "\n",
    "display(title)\n",
    "display(article_count)\n",
    "display(sort_mode)\n",
    "display(search)\n",
    "display(out)\n",
    "\n",
    "@out.capture()\n",
    "def on_button_clicked(_):\n",
    "    out.clear_output()\n",
    "    corpus = Corpus()\n",
    "    search.description = \"Recherche en cour...\"\n",
    "    corpus.load(title.value, max_size=int(article_count.value))\n",
    "    if not corpus.is_save:\n",
    "        corpus.save()\n",
    "    search.description = \"Rechercher\"    \n",
    "    print(*corpus.get(sort=sort_mode.value), sep=\"\\n\")\n",
    "\n",
    "search.on_click(on_button_clicked)"
   ]
  },
  {
   "cell_type": "code",
   "execution_count": null,
   "metadata": {},
   "outputs": [],
   "source": []
  }
 ],
 "metadata": {
  "kernelspec": {
   "display_name": "Python 3 (ipykernel)",
   "language": "python",
   "name": "python3"
  },
  "language_info": {
   "codemirror_mode": {
    "name": "ipython",
    "version": 3
   },
   "file_extension": ".py",
   "mimetype": "text/x-python",
   "name": "python",
   "nbconvert_exporter": "python",
   "pygments_lexer": "ipython3",
   "version": "3.10.2"
  }
 },
 "nbformat": 4,
 "nbformat_minor": 4
}
