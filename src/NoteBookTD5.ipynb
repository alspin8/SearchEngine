{
 "cells": [
  {
   "cell_type": "code",
   "execution_count": 8,
   "metadata": {},
   "outputs": [],
   "source": [
    "from sys import platform, path\n",
    "\n",
    "\n",
    "if platform == \"win32\":\n",
    "    path.append(\"../\")\n",
    "\n",
    "from src.model.corpus import Corpus"
   ]
  },
  {
   "cell_type": "code",
   "execution_count": 9,
   "metadata": {},
   "outputs": [],
   "source": [
    "import ipywidgets as widgets\n",
    "from IPython.display import display"
   ]
  },
  {
   "cell_type": "code",
   "execution_count": 10,
   "metadata": {},
   "outputs": [
    {
     "data": {
      "application/vnd.jupyter.widget-view+json": {
       "model_id": "08c98c4eed9c4bdf878f349e8918cf9f",
       "version_major": 2,
       "version_minor": 0
      },
      "text/plain": [
       "Text(value='', placeholder='Entrez le thème à traiter.')"
      ]
     },
     "metadata": {},
     "output_type": "display_data"
    },
    {
     "data": {
      "application/vnd.jupyter.widget-view+json": {
       "model_id": "140bbf36f1b5471c8ae30d820476757b",
       "version_major": 2,
       "version_minor": 0
      },
      "text/plain": [
       "Text(value='', placeholder=\"Entrez le nombre d'articles à traiter\")"
      ]
     },
     "metadata": {},
     "output_type": "display_data"
    },
    {
     "data": {
      "application/vnd.jupyter.widget-view+json": {
       "model_id": "5142d243e4bb4758aa4131de134ce1c2",
       "version_major": 2,
       "version_minor": 0
      },
      "text/plain": [
       "RadioButtons(description='Trier par :', index=2, options=(('Titre', 'title'), ('Date', 'date'), ('Aucun', ''))…"
      ]
     },
     "metadata": {},
     "output_type": "display_data"
    },
    {
     "data": {
      "application/vnd.jupyter.widget-view+json": {
       "model_id": "c31f98c6281d4e219c3e03a009afe53d",
       "version_major": 2,
       "version_minor": 0
      },
      "text/plain": [
       "Button(description='Rechercher', style=ButtonStyle())"
      ]
     },
     "metadata": {},
     "output_type": "display_data"
    },
    {
     "data": {
      "application/vnd.jupyter.widget-view+json": {
       "model_id": "1d03824d43c44b12978aab55a6684a15",
       "version_major": 2,
       "version_minor": 0
      },
      "text/plain": [
       "Output()"
      ]
     },
     "metadata": {},
     "output_type": "display_data"
    }
   ],
   "source": [
    "title = widgets.Text(placeholder='Entrez le thème à traiter.')\n",
    "\n",
    "out = widgets.Output()\n",
    "\n",
    "article_count = widgets.Text(placeholder=\"Entrez le nombre d'articles à traiter\")\n",
    "\n",
    "#selection = widgets.RadioButtons(\n",
    "#    options=[\"Document\", \"Auteur\"],\n",
    "#    value=\"Document\",\n",
    "#    description='Affichage :',\n",
    "#    disabled=False\n",
    "#)\n",
    "\n",
    "document_opt = [(\"Titre\", \"title\"), (\"Date\", \"date\"), (\"Aucun\", \"\")]\n",
    "#author_opt = [(\"Nom\", \"name\"), (\"Nombre de documents\", \"document_count\"), (\"Aucun\", \"\")]\n",
    "\n",
    "\n",
    "sort_mode = widgets.RadioButtons(\n",
    "    options=document_opt,\n",
    "    value=\"\",\n",
    "    description='Trier par :',\n",
    "    disabled=False\n",
    ")\n",
    "\n",
    "search = widgets.Button(description=\"Rechercher\")\n",
    "\n",
    "display(title)\n",
    "display(article_count)\n",
    "#display(selection)\n",
    "display(sort_mode)\n",
    "display(search)\n",
    "display(out)\n",
    "\n",
    "@out.capture()\n",
    "def on_button_clicked(_):\n",
    "    out.clear_output()\n",
    "    corpus = Corpus()\n",
    "    search.description = \"Recherche en cour...\"\n",
    "    \n",
    "    if not corpus.is_loaded or corpus.name != title.value or len(corpus) != int(article_count.value):\n",
    "        corpus.load(title.value, count=int(article_count.value))\n",
    "        \n",
    "    if not corpus.is_save:\n",
    "        corpus.save()\n",
    "        \n",
    "    search.description = \"Rechercher\"\n",
    "\n",
    "    print(corpus, end=\"\\n\\n\")\n",
    "    print(*corpus.get_documents(sort=sort_mode.value), sep=\"\\n\")\n",
    "\n",
    "#def on_selection_change(_):\n",
    "#    with sort_mode.hold_trait_notifications()\n",
    "#    if selection.value == \"Document\":\n",
    "#        sort_mode.options = document_opt\n",
    "#    elif selection.value == \"Author\":\n",
    "#        ssort_mode.options = author_opt\n",
    "\n",
    "search.on_click(on_button_clicked)\n",
    "#selection.observe(on_selection_change, \"value\")"
   ]
  },
  {
   "cell_type": "code",
   "execution_count": null,
   "metadata": {},
   "outputs": [],
   "source": []
  }
 ],
 "metadata": {
  "kernelspec": {
   "display_name": "Python 3 (ipykernel)",
   "language": "python",
   "name": "python3"
  },
  "language_info": {
   "codemirror_mode": {
    "name": "ipython",
    "version": 3
   },
   "file_extension": ".py",
   "mimetype": "text/x-python",
   "name": "python",
   "nbconvert_exporter": "python",
   "pygments_lexer": "ipython3",
   "version": "3.10.2"
  }
 },
 "nbformat": 4,
 "nbformat_minor": 4
}
