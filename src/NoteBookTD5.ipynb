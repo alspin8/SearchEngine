{
 "cells": [
  {
   "cell_type": "markdown",
   "source": [
    "# Execute all cell in the correct order"
   ],
   "metadata": {
    "collapsed": false
   }
  },
  {
   "cell_type": "code",
   "execution_count": null,
   "metadata": {},
   "outputs": [],
   "source": [
    "from sys import platform, path\n",
    "\n",
    "\n",
    "if platform == \"win32\":\n",
    "    path.append(\"../\")\n",
    "\n",
    "from src.model.corpus import Corpus"
   ]
  },
  {
   "cell_type": "code",
   "execution_count": null,
   "metadata": {},
   "outputs": [],
   "source": [
    "import ipywidgets as widgets\n",
    "from IPython.display import display"
   ]
  },
  {
   "cell_type": "code",
   "execution_count": null,
   "metadata": {},
   "outputs": [],
   "source": [
    "title = widgets.Text(placeholder='Entrez le thème à traiter.')\n",
    "\n",
    "out = widgets.Output()\n",
    "\n",
    "article_count = widgets.Text(placeholder=\"Entrez le nombre d'articles à traiter\")\n",
    "\n",
    "document_opt = [(\"Titre\", \"title\"), (\"Date\", \"date\"), (\"Aucun\", \"\")]\n",
    "\n",
    "\n",
    "sort_mode = widgets.RadioButtons(\n",
    "    options=document_opt,\n",
    "    value=\"\",\n",
    "    description='Trier par :',\n",
    "    disabled=False\n",
    ")\n",
    "\n",
    "search = widgets.Button(description=\"Rechercher\")\n",
    "\n",
    "display(title)\n",
    "display(article_count)\n",
    "display(sort_mode)\n",
    "display(search)\n",
    "display(out)\n",
    "\n",
    "@out.capture()\n",
    "def on_button_clicked(_):\n",
    "    out.clear_output()\n",
    "    corpus = Corpus()\n",
    "    search.description = \"Recherche en cours...\"\n",
    "    \n",
    "    if not corpus.is_loaded() or not corpus.is_same(title.value, int(article_count.value)):\n",
    "        corpus.load(title.value, int(article_count.value))\n",
    "        \n",
    "    if not corpus.is_saved():\n",
    "        corpus.save()\n",
    "        \n",
    "    search.description = \"Rechercher\"\n",
    "\n",
    "    print(corpus, end=\"\\n\\n\")\n",
    "    print(*corpus.get_documents(sort=sort_mode.value), sep=\"\\n\")\n",
    "\n",
    "search.on_click(on_button_clicked)"
   ]
  }
 ],
 "metadata": {
  "kernelspec": {
   "display_name": "Python 3 (ipykernel)",
   "language": "python",
   "name": "python3"
  },
  "language_info": {
   "codemirror_mode": {
    "name": "ipython",
    "version": 3
   },
   "file_extension": ".py",
   "mimetype": "text/x-python",
   "name": "python",
   "nbconvert_exporter": "python",
   "pygments_lexer": "ipython3",
   "version": "3.10.2"
  }
 },
 "nbformat": 4,
 "nbformat_minor": 4
}
