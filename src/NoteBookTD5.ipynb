{
 "cells": [
  {
   "cell_type": "code",
   "execution_count": null,
   "metadata": {
    "ExecuteTime": {
     "end_time": "2024-01-06T12:15:30.010249Z",
     "start_time": "2024-01-06T12:15:30.008215Z"
    }
   },
   "outputs": [],
   "source": [
    "from sys import platform, path\n",
    "\n",
    "\n",
    "if platform == \"win32\":\n",
    "    path.append(\"./\")\n",
    "\n",
    "from src.model.corpus import Corpus"
   ]
  },
  {
   "cell_type": "code",
   "execution_count": null,
   "metadata": {
    "ExecuteTime": {
     "end_time": "2024-01-06T12:15:32.156142Z",
     "start_time": "2024-01-06T12:15:32.148175Z"
    }
   },
   "outputs": [],
   "source": [
    "import ipywidgets as widgets\n",
    "from IPython.display import display"
   ]
  },
  {
   "cell_type": "code",
   "execution_count": null,
   "metadata": {
    "ExecuteTime": {
     "end_time": "2024-01-06T12:15:32.704252Z",
     "start_time": "2024-01-06T12:15:32.692076Z"
    }
   },
   "outputs": [],
   "source": [
    "title = widgets.Text(placeholder='Entrez le thème à traiter.')\n",
    "\n",
    "out = widgets.Output()\n",
    "\n",
    "article_count = widgets.Text(placeholder=\"Entrez le nombre d'articles à traiter\")\n",
    "\n",
    "sort_mode = widgets.RadioButtons(\n",
    "    options=[(\"Titre\", \"title\"), (\"Date\", \"date\"), (\"Aucun\", \"\")],\n",
    "    value=\"\",\n",
    "    description='Trier par :',\n",
    "    disabled=False\n",
    ")\n",
    "\n",
    "search = widgets.Button(description=\"Rechercher\")\n",
    "\n",
    "display(title)\n",
    "display(article_count)\n",
    "display(sort_mode)\n",
    "display(search)\n",
    "display(out)\n",
    "\n",
    "@out.capture()\n",
    "def on_button_clicked(_):\n",
    "    out.clear_output()\n",
    "    corpus = Corpus()\n",
    "    search.description = \"Recherche en cour...\"\n",
    "    \n",
    "    if not corpus.is_loaded or corpus.name != title.value or len(corpus) != int(article_count.value):\n",
    "        corpus.load(title.value, count=int(article_count.value))\n",
    "        \n",
    "    if not corpus.is_save:\n",
    "        corpus.save()\n",
    "        \n",
    "    search.description = \"Rechercher\"    \n",
    "    print(*corpus.get(sort=sort_mode.value), sep=\"\\n\")\n",
    "\n",
    "search.on_click(on_button_clicked)"
   ]
  }
 ],
 "metadata": {
  "kernelspec": {
   "display_name": "Python 3 (ipykernel)",
   "language": "python",
   "name": "python3"
  },
  "language_info": {
   "codemirror_mode": {
    "name": "ipython",
    "version": 3
   },
   "file_extension": ".py",
   "mimetype": "text/x-python",
   "name": "python",
   "nbconvert_exporter": "python",
   "pygments_lexer": "ipython3",
   "version": "3.10.2"
  }
 },
 "nbformat": 4,
 "nbformat_minor": 4
}
