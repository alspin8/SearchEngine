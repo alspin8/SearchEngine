{
 "cells": [
  {
   "cell_type": "markdown",
   "metadata": {
    "collapsed": false,
    "jupyter": {
     "outputs_hidden": false
    }
   },
   "source": [
    "# Execute all cell in the correct order"
   ]
  },
  {
   "cell_type": "code",
   "execution_count": 1,
   "metadata": {},
   "outputs": [],
   "source": [
    "from sys import platform, path\n",
    "\n",
    "\n",
    "if platform == \"win32\":\n",
    "    path.append(\"../\")\n",
    "\n",
    "from src.model.corpus import Corpus"
   ]
  },
  {
   "cell_type": "code",
   "execution_count": 2,
   "metadata": {},
   "outputs": [],
   "source": [
    "import ipywidgets as widgets\n",
    "from IPython.display import display"
   ]
  },
  {
   "cell_type": "code",
   "execution_count": 3,
   "metadata": {},
   "outputs": [],
   "source": [
    "corpus_size = 940\n",
    "display_size = 50"
   ]
  },
  {
   "cell_type": "code",
   "execution_count": 4,
   "metadata": {},
   "outputs": [
    {
     "data": {
      "application/vnd.jupyter.widget-view+json": {
       "model_id": "9d0735bf37b04853a4bcc1511d6a7e39",
       "version_major": 2,
       "version_minor": 0
      },
      "text/plain": [
       "Text(value='', placeholder='Entrez vos mots clés.')"
      ]
     },
     "metadata": {},
     "output_type": "display_data"
    },
    {
     "data": {
      "application/vnd.jupyter.widget-view+json": {
       "model_id": "d0b62a4b590049d19bdaf352ee779d2c",
       "version_major": 2,
       "version_minor": 0
      },
      "text/plain": [
       "RadioButtons(description='Selectionner le corpus :', options=('football', 'chess', 'python', 'computer'), valu…"
      ]
     },
     "metadata": {},
     "output_type": "display_data"
    },
    {
     "data": {
      "application/vnd.jupyter.widget-view+json": {
       "model_id": "15d4ebd853a6443586a2b68ab70f6d65",
       "version_major": 2,
       "version_minor": 0
      },
      "text/plain": [
       "Button(description='Rechercher', style=ButtonStyle())"
      ]
     },
     "metadata": {},
     "output_type": "display_data"
    },
    {
     "data": {
      "application/vnd.jupyter.widget-view+json": {
       "model_id": "8fd06dd2598643a7bd3077fd47c2494b",
       "version_major": 2,
       "version_minor": 0
      },
      "text/plain": [
       "Output()"
      ]
     },
     "metadata": {},
     "output_type": "display_data"
    }
   ],
   "source": [
    "keywords = widgets.Text(placeholder='Entrez vos mots clés.')\n",
    "\n",
    "out = widgets.Output()\n",
    "\n",
    "#document_opt = [(\"Titre\", \"title\"), (\"Date\", \"date\"), (\"Aucun\", \"\")]\n",
    "\n",
    "\n",
    "corpus_selector = widgets.RadioButtons(\n",
    "    options=[\"football\", \"chess\", \"python\", \"computer\"],\n",
    "    value=\"football\",\n",
    "    description='Selectionner le corpus :',\n",
    "    disabled=False\n",
    ")\n",
    "\n",
    "search = widgets.Button(description=\"Rechercher\")\n",
    "\n",
    "display(keywords)\n",
    "display(corpus_selector)\n",
    "display(search)\n",
    "display(out)\n",
    "\n",
    "@out.capture()\n",
    "def on_button_clicked(_):\n",
    "    out.clear_output()\n",
    "    corpus = Corpus()\n",
    "    search.description = \"Recherche en cours...\"\n",
    "    \n",
    "    if not corpus.is_loaded() or not corpus.is_same(corpus_selector.value, corpus_size):\n",
    "        corpus.load(corpus_selector.value, corpus_size)\n",
    "        \n",
    "    search.description = \"Rechercher\"\n",
    "\n",
    "    print(corpus, end=\"\\n\\n\")\n",
    "    print(corpus.sort_by_score(keywords.value, max_count=display_size))\n",
    "\n",
    "search.on_click(on_button_clicked)"
   ]
  },
  {
   "cell_type": "code",
   "execution_count": null,
   "metadata": {},
   "outputs": [],
   "source": []
  }
 ],
 "metadata": {
  "kernelspec": {
   "display_name": "Python 3 (ipykernel)",
   "language": "python",
   "name": "python3"
  },
  "language_info": {
   "codemirror_mode": {
    "name": "ipython",
    "version": 3
   },
   "file_extension": ".py",
   "mimetype": "text/x-python",
   "name": "python",
   "nbconvert_exporter": "python",
   "pygments_lexer": "ipython3",
   "version": "3.10.2"
  }
 },
 "nbformat": 4,
 "nbformat_minor": 4
}
